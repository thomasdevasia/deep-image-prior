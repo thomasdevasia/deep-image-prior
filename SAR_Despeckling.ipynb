{
  "cells": [
    {
      "cell_type": "markdown",
      "metadata": {
        "id": "view-in-github",
        "colab_type": "text"
      },
      "source": [
        "<a href=\"https://colab.research.google.com/github/thomasdevasia/deep-image-prior/blob/master/SAR_Despeckling.ipynb\" target=\"_parent\"><img src=\"https://colab.research.google.com/assets/colab-badge.svg\" alt=\"Open In Colab\"/></a>"
      ]
    },
    {
      "cell_type": "code",
      "execution_count": 1,
      "metadata": {
        "colab": {
          "base_uri": "https://localhost:8080/"
        },
        "id": "8NqnrtFZmwJs",
        "outputId": "62af2957-a86a-4eed-f5bb-d98e321e3484"
      },
      "outputs": [
        {
          "output_type": "stream",
          "name": "stdout",
          "text": [
            "Cloning into 'deep-image-prior'...\n",
            "remote: Enumerating objects: 409, done.\u001b[K\n",
            "remote: Counting objects: 100% (120/120), done.\u001b[K\n",
            "remote: Compressing objects: 100% (75/75), done.\u001b[K\n",
            "remote: Total 409 (delta 57), reused 93 (delta 44), pack-reused 289\u001b[K\n",
            "Receiving objects: 100% (409/409), 126.42 MiB | 24.53 MiB/s, done.\n",
            "Resolving deltas: 100% (212/212), done.\n",
            "/content/deep-image-prior\n"
          ]
        }
      ],
      "source": [
        "!git clone https://github.com/thomasdevasia/deep-image-prior\n",
        "# !mv deep-image-prior/* ./\n",
        "%cd deep-image-prior"
      ]
    },
    {
      "cell_type": "code",
      "execution_count": 2,
      "metadata": {
        "id": "a51yIFT9m-oi"
      },
      "outputs": [],
      "source": [
        "from __future__ import print_function\n",
        "import matplotlib.pyplot as plt\n",
        "%matplotlib inline\n",
        "\n",
        "import os\n",
        "#os.environ['CUDA_VISIBLE_DEVICES'] = '3'\n",
        "\n",
        "import numpy as np\n",
        "from models import *\n",
        "\n",
        "import torch\n",
        "import torch.optim\n",
        "\n",
        "# from skimage.measure import compare_psnr\n",
        "from skimage.metrics import peak_signal_noise_ratio as compare_psnr\n",
        "from utils.denoising_utils import *\n",
        "\n",
        "import scipy.io as sio\n",
        "\n",
        "torch.backends.cudnn.enabled = True\n",
        "torch.backends.cudnn.benchmark =True\n",
        "dtype = torch.cuda.FloatTensor\n",
        "\n",
        "imsize =-1\n",
        "\n",
        "# plotting image inside closure\n",
        "PLOT = True\n",
        "\n",
        "sigma = 25\n",
        "sigma_ = sigma/255."
      ]
    },
    {
      "cell_type": "code",
      "execution_count": 3,
      "metadata": {
        "id": "jWYvpR5anwoL"
      },
      "outputs": [],
      "source": [
        "# png SAR image\n",
        "fnamep = 'data/denoising/SAR3.png'\n",
        "# .mat SAR images\n",
        "# fname = 'data/denoising/CL7.mat'\n",
        "# fname = 'data/denoising/CL8.mat'\n",
        "fname = 'data/denoising/CL9.mat'"
      ]
    },
    {
      "cell_type": "markdown",
      "metadata": {
        "id": "rns52qtC6C2W"
      },
      "source": [
        "# Load and prepare Image"
      ]
    },
    {
      "cell_type": "code",
      "execution_count": 4,
      "metadata": {
        "id": "E_WmPhGR4lfz"
      },
      "outputs": [],
      "source": [
        "# reading mat files\n",
        "test = sio.loadmat(fname)\n",
        "intImage = test['x2']\n",
        "temp = pil_to_np(intImage)\n",
        "img_pil = np_to_pil(temp)\n",
        "img_pil = crop_image(img_pil, d=32)\n",
        "# img_np = 255*pil_to_np(img_pil)\n",
        "img_np = pil_to_np(img_pil)\n",
        "# img_np"
      ]
    },
    {
      "cell_type": "code",
      "execution_count": 5,
      "metadata": {
        "colab": {
          "base_uri": "https://localhost:8080/"
        },
        "id": "YLHpKM8Kq6gG",
        "outputId": "c077f2bc-6c40-4b36-9c9c-5c9c8c95573d"
      },
      "outputs": [
        {
          "output_type": "execute_result",
          "data": {
            "text/plain": [
              "(1, 672, 672)"
            ]
          },
          "metadata": {},
          "execution_count": 5
        }
      ],
      "source": [
        "img_np.shape"
      ]
    },
    {
      "cell_type": "code",
      "execution_count": 6,
      "metadata": {
        "id": "cNFd8paesUYn"
      },
      "outputs": [],
      "source": [
        "# img_pil"
      ]
    },
    {
      "cell_type": "code",
      "execution_count": 7,
      "metadata": {
        "id": "vH2TE-IOpe1E"
      },
      "outputs": [],
      "source": [
        "# img_noisy_pil = crop_image(get_image(fname, imsize)[0], d=32)\n",
        "# img_noisy_np = pil_to_np(img_noisy_pil)\n",
        "\n",
        "# img_pil = img_noisy_pil\n",
        "# img_np = img_noisy_np\n",
        "\n",
        "# plot_image_grid([img_np], 4, 5);"
      ]
    },
    {
      "cell_type": "code",
      "execution_count": 8,
      "metadata": {
        "id": "qSUzmLAHMlXQ"
      },
      "outputs": [],
      "source": [
        "# im = crop_image(get_image(fname, imsize)[0], d=128)\n",
        "# im.size"
      ]
    },
    {
      "cell_type": "code",
      "execution_count": 9,
      "metadata": {
        "id": "vLTFtawRq6RL"
      },
      "outputs": [],
      "source": [
        "# # reading png files\n",
        "# # img_pil = get_image(fname, imsize)[0]\n",
        "# img_pil = crop_image(get_image(fnamep, imsize)[0], d=32)\n",
        "# # converting to numpy\n",
        "# img_np = pil_to_np(img_pil)\n",
        "# # img_np"
      ]
    },
    {
      "cell_type": "code",
      "execution_count": 10,
      "metadata": {
        "id": "prwA1lGHAcB3"
      },
      "outputs": [],
      "source": [
        "# # # adding speckle noise\n",
        "# def get_noisy_img(img_np, sigma):\n",
        "#   \"\"\"Adds noise to an image.\n",
        "    \n",
        "#   Args: \n",
        "#       img_np: image, np.array with values from 0 to 1\n",
        "#       sigma: std of the noise\n",
        "#   \"\"\"\n",
        "\n",
        "#   np.random.seed(42)\n",
        "\n",
        "#   noise = np.random.normal(loc=1, scale=sigma_, size=img_np.shape)\n",
        "\n",
        "#   # multiplicative noise for speckle noise\n",
        "#   # imgNoise = img_np + (img_np * noise)\n",
        "#   imgNoise = np.log(img_np * noise)\n",
        "\n",
        "#   img_noisy_np = np.clip(abs(imgNoise), 0, 1).astype(np.float32)\n",
        "    \n",
        "#   img_noisy_pil = np_to_pil(img_noisy_np)\n",
        "\n",
        "#   return img_noisy_pil, img_noisy_np"
      ]
    },
    {
      "cell_type": "code",
      "execution_count": 11,
      "metadata": {
        "id": "VrEixrIHVOov"
      },
      "outputs": [],
      "source": [
        "# correct way\n",
        "# from sklearn import preprocessing\n",
        "def generateAddSpeckle(img_np, L):\n",
        "\n",
        "    '''\n",
        "\n",
        "    Creates multiplicative speckled image with number of looks L. L increases lower noise effect, L is lower noise is strong. \n",
        "\n",
        "    '''\n",
        "\n",
        "    sum_ = 0\n",
        "\n",
        "    for i in range(L):\n",
        "\n",
        "        seq1 = np.random.randn(img_np.shape[1], img_np.shape[2])\n",
        "\n",
        "        seq2 = np.random.randn(img_np.shape[1], img_np.shape[2])\n",
        "\n",
        "        temp = np.multiply(seq1, seq1) + np.multiply(seq2, seq2)\n",
        "\n",
        "        sum_ = sum_ + temp/2\n",
        "\n",
        "        #print(i)\n",
        "\n",
        "    speckle_ = np.multiply(sum_,1/L)\n",
        "\n",
        "    img_noisy_np = np.multiply(img_np, speckle_)\n",
        "    # img_noisy_np = np.clip(img_noisy_np, 0.001, 1).astype(np.float32)\n",
        "    # img_noisy_np = np.log(np.multiply(img_np, speckle_))\n",
        "\n",
        "    # img_noisy_np = np.log(img_noisy_np)\n",
        "    \n",
        "    # norm = np.linalg.norm(img_noisy_np)\n",
        "    # img_noisy_np = np.log(img_noisy_np/norm)\n",
        "\n",
        "    val_min = img_noisy_np.min()\n",
        "    val_range = img_noisy_np.max() - val_min\n",
        "    img_noisy_np = (img_noisy_np - val_min) / val_range\n",
        "    img_noisy_np = np.log(img_noisy_np)\n",
        "    img_noisy_np[img_noisy_np==-np.inf] = 0\n",
        "\n",
        "\n",
        "    return img_noisy_np"
      ]
    },
    {
      "cell_type": "code",
      "execution_count": 12,
      "metadata": {
        "id": "kr22lGGXpGi5"
      },
      "outputs": [],
      "source": [
        "# # import torchvision.transforms.functional as fn\n",
        "# img_noisy_pil, img_noisy_np = generateAddSpeckle(img_np, 5)\n",
        "\n",
        "# print(img_noisy_np.mean(), img_noisy_np.std())\n",
        "\n",
        "# norm = np.linalg.norm(img_noisy_np)\n",
        "# test = img_noisy_np/norm\n",
        "# test = np.log(test)\n",
        "\n",
        "# plot_image_grid([test],4,6)"
      ]
    },
    {
      "cell_type": "code",
      "execution_count": null,
      "metadata": {
        "id": "kvRtQYd6_8zl"
      },
      "outputs": [],
      "source": [
        "# with ground truth available\n",
        "# img_noisy_pil, img_noisy_np = get_noisy_img(img_np, sigma_)\n",
        "img_noisy_np = generateAddSpeckle(img_np, 5)\n",
        "img_noisy_pil = np_to_pil(img_noisy_np)\n",
        "plot_image_grid([img_np],4,6)\n",
        "plot_image_grid([img_noisy_np],4,6)\n",
        "(img_np.shape, img_noisy_np.shape)"
      ]
    },
    {
      "cell_type": "code",
      "execution_count": 14,
      "metadata": {
        "id": "8011Au3poaN_"
      },
      "outputs": [],
      "source": [
        "# back = np.exp(img_noisy_np)\n",
        "# val_min = img_noisy_np.min()\n",
        "# val_range = img_noisy_np.max() - val_min\n",
        "# img_noisy_np = (back - val_min) / val_range\n",
        "# plot_image_grid([back],4,6)\n",
        "# ()\n",
        "# img_noisy_np[img_noisy_np==-np.inf]\n",
        "# img_noisy_np.min()"
      ]
    },
    {
      "cell_type": "code",
      "execution_count": 15,
      "metadata": {
        "id": "k2v5C5GUQSWn"
      },
      "outputs": [],
      "source": [
        "# np.where(img_noisy_np == 0)\n",
        "# np.where(np.log(img_noisy_np), )"
      ]
    },
    {
      "cell_type": "markdown",
      "metadata": {
        "id": "CjxguusYDTxS"
      },
      "source": [
        "# Define model"
      ]
    },
    {
      "cell_type": "code",
      "execution_count": 16,
      "metadata": {
        "id": "X6phPZ0N95id"
      },
      "outputs": [],
      "source": [
        "INPUT = 'noise' # 'meshgrid'\n",
        "pad = 'reflection'\n",
        "OPT_OVER = 'net' # 'net,input'\n",
        "\n",
        "reg_noise_std = 1./30. # set to 1./20. for sigma=50\n",
        "# 0.0001 0.001 0.01 0.1\n",
        "LR = 0.001\n",
        "\n",
        "# adam LBFGS \n",
        "OPTIMIZER='adam'\n",
        "# OPTIMIZER='LBFGS'\n",
        "\n",
        "show_every = 100\n",
        "exp_weight=0.99"
      ]
    },
    {
      "cell_type": "code",
      "execution_count": 17,
      "metadata": {
        "id": "T84RTaVc9FBF"
      },
      "outputs": [],
      "source": [
        "# 3000 4000 6000 10000 15000\n",
        "num_iter = 3000\n",
        "# 16 32 48 64\n",
        "input_depth = 16\n",
        "figsize = 4 "
      ]
    },
    {
      "cell_type": "code",
      "execution_count": 18,
      "metadata": {
        "colab": {
          "base_uri": "https://localhost:8080/"
        },
        "id": "HSVPrp599Pay",
        "outputId": "32d76731-3353-449e-faa6-0a460ebc2d7a"
      },
      "outputs": [
        {
          "output_type": "stream",
          "name": "stdout",
          "text": [
            "inside skip\n"
          ]
        }
      ],
      "source": [
        "# returns a model\n",
        "\n",
        "# unet\n",
        "# net = get_net(input_depth, 'UNet', pad,\n",
        "#               skip_n33d=128, \n",
        "#               skip_n33u=128, \n",
        "#               skip_n11=4, \n",
        "#               num_scales=5,\n",
        "#               n_channels=1,\n",
        "#               upsample_mode='bilinear').type(dtype)\n",
        "\n",
        "# resnet\n",
        "# net = ResNet(input_depth, 1, 10, 16, need_sigmoid=True, act_fun='LeakyReLU')\n",
        "# net = net.type(dtype)\n",
        "\n",
        "# texture_nets\n",
        "# net = get_net(input_depth, 'texture_nets', pad,\n",
        "#               skip_n33d=128, \n",
        "#               skip_n33u=128, \n",
        "#               skip_n11=4, \n",
        "#               num_scales=5,\n",
        "#               n_channels=1,\n",
        "#               upsample_mode='bilinear').type(dtype)\n",
        "\n",
        "# net = get_texture_nets(inp=1, conv_num=input_depth, ratios=[32, 16, 8, 4, 2, 1], \n",
        "#                        fill_noise=False, pad=pad).type(dtype)\n",
        "# --------------------------------------\n",
        "# skip\n",
        "net = get_net(input_depth, 'skip', pad,\n",
        "              skip_n33d=128, \n",
        "              skip_n33u=128, \n",
        "              skip_n11=4, \n",
        "              num_scales=5,\n",
        "              n_channels=1,\n",
        "              upsample_mode='bilinear').type(dtype)"
      ]
    },
    {
      "cell_type": "code",
      "execution_count": 19,
      "metadata": {
        "colab": {
          "base_uri": "https://localhost:8080/"
        },
        "id": "IMomjVWS9RCL",
        "outputId": "c304730f-fd8c-49a2-e623-5457dcedb50e"
      },
      "outputs": [
        {
          "output_type": "execute_result",
          "data": {
            "text/plain": [
              "torch.Size([1, 16, 672, 672])"
            ]
          },
          "metadata": {},
          "execution_count": 19
        }
      ],
      "source": [
        "# ./utils/common_utils.py\n",
        "net_input = get_noise(input_depth, INPUT, (img_pil.size[1], img_pil.size[0]), noise_type='n').type(dtype).detach()\n",
        "net_input.shape"
      ]
    },
    {
      "cell_type": "code",
      "execution_count": 20,
      "metadata": {
        "colab": {
          "base_uri": "https://localhost:8080/"
        },
        "id": "am9Zo0Ly9yQ5",
        "outputId": "aeb93562-b2a8-46b4-f0aa-abddc4ca86e0"
      },
      "outputs": [
        {
          "output_type": "stream",
          "name": "stdout",
          "text": [
            "Number of params: 2199077\n"
          ]
        }
      ],
      "source": [
        "# Compute number of parameters\n",
        "s  = sum([np.prod(list(p.size())) for p in net.parameters()]); \n",
        "print ('Number of params: %d' % s)"
      ]
    },
    {
      "cell_type": "code",
      "execution_count": 21,
      "metadata": {
        "id": "mhrYmtCq-R5W"
      },
      "outputs": [],
      "source": [
        "# Loss\n",
        "mse = torch.nn.MSELoss().type(dtype)\n",
        "# noisy img to torch\n",
        "# img_noisy_torch = np_to_torch(img_noisy_np).type(dtype)\n",
        "\n",
        "# norm = np.linalg.norm(img_noisy_np)\n",
        "# img_noisy_np_norm = img_noisy_np/norm\n",
        "# img_noisy_np = np.log(img_noisy_np)\n",
        "# plot_image_grid([img_noisy_np],4,6)\n",
        "img_noisy_torch = np_to_torch(img_noisy_np).type(dtype)"
      ]
    },
    {
      "cell_type": "code",
      "execution_count": 22,
      "metadata": {
        "id": "zQTcfRKrvMNC"
      },
      "outputs": [],
      "source": [
        "# img_noisy_torch = torch.log(img_noisy_torch)"
      ]
    },
    {
      "cell_type": "markdown",
      "metadata": {
        "id": "GKkmtN_1_IDt"
      },
      "source": [
        "# Optimize Model"
      ]
    },
    {
      "cell_type": "code",
      "execution_count": 23,
      "metadata": {
        "id": "ZrhrH2tg_M-v"
      },
      "outputs": [],
      "source": [
        "net_input_saved = net_input.detach().clone()\n",
        "noise = net_input.detach().clone()\n",
        "out_avg = None\n",
        "last_net = None\n",
        "psrn_noisy_last = 0\n",
        "\n",
        "i = 0"
      ]
    },
    {
      "cell_type": "code",
      "execution_count": 24,
      "metadata": {
        "id": "DZGRS99Kf4ge"
      },
      "outputs": [],
      "source": [
        "# if reg_noise_std > 0:\n",
        "#         net_input = net_input_saved + (noise.normal_() * reg_noise_std)\n",
        "# out = net(net_input)\n",
        "# #  out_np = torch_to_np(out)\n",
        "# out = torch.exp(out)\n",
        "# out_np = torch_to_np(out)\n",
        "# plot_image_grid([out_np],0,1)\n",
        "# total_loss = mse(out, img_noisy_torch)\n",
        "# total_loss.backward()"
      ]
    },
    {
      "cell_type": "code",
      "execution_count": 25,
      "metadata": {
        "id": "O9WffyS5_a6a"
      },
      "outputs": [],
      "source": [
        "# Loss funftion printing image\n",
        "def closure():\n",
        "    \n",
        "    global i, out_avg, psrn_noisy_last, last_net, net_input\n",
        "    \n",
        "    if reg_noise_std > 0:\n",
        "        net_input = net_input_saved + (noise.normal_() * reg_noise_std)\n",
        "        # print(noise.normal_())\n",
        "    # net_input = np_to_torch(generateAddSpeckle(torch_to_np(net_input_saved), 5)).type(dtype)\n",
        "    \n",
        "    out = net(net_input)\n",
        "    # out = torch.exp(out)\n",
        "    # print(out)\n",
        "    \n",
        "    # Smoothing\n",
        "    if out_avg is None:\n",
        "        out_avg = out.detach()\n",
        "    else:\n",
        "        out_avg = out_avg * exp_weight + out.detach() * (1 - exp_weight)\n",
        "\n",
        "    # print(out.shape, img_noisy_torch.shape)\n",
        "    total_loss = mse(out, img_noisy_torch)\n",
        "    total_loss.backward()\n",
        "        \n",
        "    # print(img_noisy_np.shape, out.detach().cpu().numpy()[0].shape)\n",
        "    # out_npi = out.detach().cpu().numpy()[0], data_range=img_noisy_np.max()-img_noisy_np.min()\n",
        "    # print(test.shape)\n",
        "    psrn_noisy = compare_psnr(img_noisy_np, out.detach().cpu().numpy()[0], data_range=img_noisy_np.max()-img_noisy_np.min()) \n",
        "    psrn_gt    = compare_psnr(img_np, out.detach().cpu().numpy()[0]) \n",
        "    psrn_gt_sm = compare_psnr(img_np, out_avg.detach().cpu().numpy()[0]) \n",
        "    \n",
        "    # So 'PSRN_gt', 'PSNR_gt_sm' only when ground truth is provided\n",
        "    print('Iteration %05d    Loss %f   PSNR_noisy: %f   PSRN_gt: %f PSNR_gt_sm: %f' % (i, total_loss.item(), psrn_noisy, psrn_gt, psrn_gt_sm), end='')\n",
        "\n",
        "    if  PLOT and i % show_every == 0:\n",
        "        out_np = torch_to_np(out)\n",
        "        # print(out_np)\n",
        "        plot_image_grid([np.clip(out_np, 0, 1), \n",
        "                         np.clip(torch_to_np(out_avg), 0, 1)], factor=figsize, nrow=1)\n",
        "        # print('Iteration %05d    Loss %f   PSNR_noisy: %f   PSRN_gt: %f PSNR_gt_sm: %f\\n' % (i, total_loss.item(), psrn_noisy, psrn_gt, psrn_gt_sm), end='')         \n",
        "    \n",
        "    # Backtracking\n",
        "    if i % show_every:\n",
        "        if psrn_noisy - psrn_noisy_last < -5: \n",
        "            print('Falling back to previous checkpoint.')\n",
        "\n",
        "            for new_param, net_param in zip(last_net, net.parameters()):\n",
        "                net_param.data.copy_(new_param.cuda())\n",
        "\n",
        "            return total_loss*0\n",
        "        else:\n",
        "            last_net = [x.detach().cpu() for x in net.parameters()]\n",
        "            psrn_noisy_last = psrn_noisy\n",
        "            \n",
        "    i += 1\n",
        "\n",
        "    return total_loss"
      ]
    },
    {
      "cell_type": "code",
      "execution_count": 26,
      "metadata": {
        "id": "mr9Vyh5-_95n"
      },
      "outputs": [],
      "source": [
        "p = get_params(OPT_OVER, net, net_input)"
      ]
    },
    {
      "cell_type": "code",
      "execution_count": null,
      "metadata": {
        "id": "_8hteToVApHT"
      },
      "outputs": [],
      "source": [
        "optimize(OPTIMIZER, p, closure, LR, num_iter)"
      ]
    },
    {
      "cell_type": "code",
      "execution_count": null,
      "metadata": {
        "id": "fjcezsK_CF2D"
      },
      "outputs": [],
      "source": [
        "out_np = torch_to_np(net(net_input))"
      ]
    },
    {
      "cell_type": "code",
      "execution_count": null,
      "metadata": {
        "id": "_tdbO5uwS8O3"
      },
      "outputs": [],
      "source": [
        "exp = np.exp(out_np)\n",
        "# val_min = img_noisy_np.min()\n",
        "# val_range = img_noisy_np.max() - val_min\n",
        "# # normalize the img_noisy_np to range [0.0, 1.0]\n",
        "# test = (exp - val_min) / val_range\n",
        "# out_np\n",
        "q = plot_image_grid([np.clip(exp, 0, 1), img_np], factor=13);"
      ]
    },
    {
      "cell_type": "code",
      "execution_count": null,
      "metadata": {
        "id": "Lq4EASknXuj-"
      },
      "outputs": [],
      "source": [
        "compare_psnr(img_noisy_np, out_np, data_range=img_noisy_np.max()-img_noisy_np.min())"
      ]
    },
    {
      "cell_type": "code",
      "execution_count": null,
      "metadata": {
        "id": "Z-5mqm_NYAVj"
      },
      "outputs": [],
      "source": [
        "compare_psnr(img_np, out_np) "
      ]
    },
    {
      "cell_type": "code",
      "execution_count": null,
      "metadata": {
        "id": "eDAtjMK4xIaR"
      },
      "outputs": [],
      "source": [
        "q = plot_image_grid([np.clip(out_np, 0, 1), img_np], factor=13)"
      ]
    },
    {
      "cell_type": "code",
      "execution_count": null,
      "metadata": {
        "id": "72VtTLi1qQEL"
      },
      "outputs": [],
      "source": [
        "# # function for l 1 to 20\n",
        "\n",
        "# L_value = []\n",
        "\n",
        "# before_psnr_noise = []\n",
        "\n",
        "# final_psnr_noise = []\n",
        "# final_psnr_gt = []\n",
        "\n",
        "# for i in range(10,21):\n",
        "#   L_value.append(i)\n",
        "#   print(f'\\nCurrent L value {i}')\n",
        "\n",
        "#   img_noisy_pil, img_noisy_np = generateAddSpeckle(img_np, i)\n",
        "#   plot_image_grid([img_np, img_noisy_np],4,6)\n",
        "  \n",
        "#   before_psnr_noise.append(compare_psnr(img_np,img_noisy_np))\n",
        "\n",
        "#   net_input = get_noise(input_depth, INPUT, (img_pil.size[1], img_pil.size[0]), noise_type='n').type(dtype).detach()\n",
        "\n",
        "#   mse = torch.nn.MSELoss().type(dtype)\n",
        "#   img_noisy_torch = np_to_torch(img_noisy_np).type(dtype)\n",
        "\n",
        "#   net_input_saved = net_input.detach().clone()\n",
        "#   noise = net_input.detach().clone()\n",
        "#   out_avg = None\n",
        "#   last_net = None\n",
        "#   psrn_noisy_last = 0\n",
        "#   i = 0\n",
        "\n",
        "#   p = get_params(OPT_OVER, net, net_input)\n",
        "\n",
        "#   optimize(OPTIMIZER, p, closure, LR, num_iter)\n",
        "\n",
        "#   out_np = torch_to_np(net(net_input))\n",
        "\n",
        "#   final_psnr_noise.append(compare_psnr(img_noisy_np, out_np)) \n",
        "\n",
        "#   final_psnr_gt.append(compare_psnr(img_np, out_np))\n"
      ]
    },
    {
      "cell_type": "code",
      "execution_count": null,
      "metadata": {
        "id": "fA24hUaozJ7u"
      },
      "outputs": [],
      "source": [
        "# import pandas as pd\n",
        "\n",
        "# table = pd.DataFrame({\n",
        "#     'L_value':L_value,\n",
        "#     'before_psnr_noise':before_psnr_noise,\n",
        "#     'final_psnr_noise':final_psnr_noise,\n",
        "#     'final_psnr_gt':final_psnr_gt\n",
        "# }).set_index('L_value')\n",
        "\n",
        "# table\n",
        "# # final_psnr_gt.append(0)\n",
        "# # final_psnr_noise.append(0)"
      ]
    },
    {
      "cell_type": "markdown",
      "metadata": {
        "id": "yfq3pKW3OkXM"
      },
      "source": [
        "#----------------------"
      ]
    },
    {
      "cell_type": "code",
      "execution_count": null,
      "metadata": {
        "id": "DwjykEMbxRWz"
      },
      "outputs": [],
      "source": [
        "(img_pil.size[1], img_pil.size[0])"
      ]
    },
    {
      "cell_type": "code",
      "execution_count": null,
      "metadata": {
        "id": "kOht-jbTXsvQ"
      },
      "outputs": [],
      "source": [
        "zero  = torch.zeros([1 ,32 ,544 ,896])\n",
        "var=1./10"
      ]
    },
    {
      "cell_type": "code",
      "execution_count": null,
      "metadata": {
        "id": "VErJNqrjYXEQ"
      },
      "outputs": [],
      "source": [
        "res = zero.normal_()*var\n",
        "res<0"
      ]
    },
    {
      "cell_type": "code",
      "execution_count": null,
      "metadata": {
        "id": "HboVboCqahoU"
      },
      "outputs": [],
      "source": [
        "img_noisy_np.shape"
      ]
    },
    {
      "cell_type": "code",
      "execution_count": null,
      "metadata": {
        "id": "WSzDyPDUzpnY"
      },
      "outputs": [],
      "source": [
        "torch.zeros([4,2,3])"
      ]
    },
    {
      "cell_type": "code",
      "execution_count": null,
      "metadata": {
        "id": "ymSvjJiqFriN"
      },
      "outputs": [],
      "source": [
        "loc, scale = 0., 1.\n",
        "s = np.random.laplace(loc, scale, [2,5,8])"
      ]
    },
    {
      "cell_type": "code",
      "execution_count": null,
      "metadata": {
        "id": "AvqV5kBOJTSZ"
      },
      "outputs": [],
      "source": [
        "# np_to_torch(s).shape\n",
        "torch.from_numpy(s).shape"
      ]
    },
    {
      "cell_type": "code",
      "execution_count": null,
      "metadata": {
        "id": "4jXEv0k_KWLj"
      },
      "outputs": [],
      "source": []
    }
  ],
  "metadata": {
    "accelerator": "GPU",
    "colab": {
      "collapsed_sections": [],
      "provenance": [],
      "include_colab_link": true
    },
    "gpuClass": "standard",
    "kernelspec": {
      "display_name": "Python 3",
      "name": "python3"
    },
    "language_info": {
      "name": "python"
    }
  },
  "nbformat": 4,
  "nbformat_minor": 0
}